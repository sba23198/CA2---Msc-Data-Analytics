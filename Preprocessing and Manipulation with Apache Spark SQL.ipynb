{
 "cells": [
  {
   "cell_type": "code",
   "execution_count": 19,
   "id": "611fb937",
   "metadata": {},
   "outputs": [],
   "source": [
    "#Importing Spark\n",
    "from pyspark.sql.types import *"
   ]
  },
  {
   "cell_type": "code",
   "execution_count": 20,
   "id": "f20e0fc8",
   "metadata": {},
   "outputs": [
    {
     "data": {
      "text/plain": [
       "Row(0='1', 1467810369='1467810672', Mon Apr 06 22:19:45 PDT 2009='Mon Apr 06 22:19:49 PDT 2009', NO_QUERY='NO_QUERY', _TheSpecialOne_='scotthamilton', @switchfoot http://twitpic.com/2y1zl - Awww, that's a bummer.  You shoulda got David Carr of Third Day to do it. ;D=\"is upset that he can't update his Facebook by texting it... and might cry as a result  School today also. Blah!\")"
      ]
     },
     "execution_count": 20,
     "metadata": {},
     "output_type": "execute_result"
    }
   ],
   "source": [
    "#Preprocessing the data with Apache Spark\n",
    "df = spark.read.load('file:///home/hduser/Desktop/CA2/ProjectTweets.csv', format=\"csv\", header=\"true\", sep=',')\n",
    "df.head()"
   ]
  },
  {
   "cell_type": "code",
   "execution_count": 21,
   "id": "82273242",
   "metadata": {},
   "outputs": [
    {
     "data": {
      "text/plain": [
       "[Row(0='1', 1467810369='1467810672', Mon Apr 06 22:19:45 PDT 2009='Mon Apr 06 22:19:49 PDT 2009', NO_QUERY='NO_QUERY', _TheSpecialOne_='scotthamilton', @switchfoot http://twitpic.com/2y1zl - Awww, that's a bummer.  You shoulda got David Carr of Third Day to do it. ;D=\"is upset that he can't update his Facebook by texting it... and might cry as a result  School today also. Blah!\"),\n",
       " Row(0='2', 1467810369='1467810917', Mon Apr 06 22:19:45 PDT 2009='Mon Apr 06 22:19:53 PDT 2009', NO_QUERY='NO_QUERY', _TheSpecialOne_='mattycus', @switchfoot http://twitpic.com/2y1zl - Awww, that's a bummer.  You shoulda got David Carr of Third Day to do it. ;D='@Kenichan I dived many times for the ball. Managed to save 50%  The rest go out of bounds'),\n",
       " Row(0='3', 1467810369='1467811184', Mon Apr 06 22:19:45 PDT 2009='Mon Apr 06 22:19:57 PDT 2009', NO_QUERY='NO_QUERY', _TheSpecialOne_='ElleCTF', @switchfoot http://twitpic.com/2y1zl - Awww, that's a bummer.  You shoulda got David Carr of Third Day to do it. ;D='my whole body feels itchy and like its on fire '),\n",
       " Row(0='4', 1467810369='1467811193', Mon Apr 06 22:19:45 PDT 2009='Mon Apr 06 22:19:57 PDT 2009', NO_QUERY='NO_QUERY', _TheSpecialOne_='Karoli', @switchfoot http://twitpic.com/2y1zl - Awww, that's a bummer.  You shoulda got David Carr of Third Day to do it. ;D=\"@nationwideclass no, it's not behaving at all. i'm mad. why am i here? because I can't see you all over there. \"),\n",
       " Row(0='5', 1467810369='1467811372', Mon Apr 06 22:19:45 PDT 2009='Mon Apr 06 22:20:00 PDT 2009', NO_QUERY='NO_QUERY', _TheSpecialOne_='joy_wolf', @switchfoot http://twitpic.com/2y1zl - Awww, that's a bummer.  You shoulda got David Carr of Third Day to do it. ;D='@Kwesidei not the whole crew '),\n",
       " Row(0='6', 1467810369='1467811592', Mon Apr 06 22:19:45 PDT 2009='Mon Apr 06 22:20:03 PDT 2009', NO_QUERY='NO_QUERY', _TheSpecialOne_='mybirch', @switchfoot http://twitpic.com/2y1zl - Awww, that's a bummer.  You shoulda got David Carr of Third Day to do it. ;D='Need a hug '),\n",
       " Row(0='7', 1467810369='1467811594', Mon Apr 06 22:19:45 PDT 2009='Mon Apr 06 22:20:03 PDT 2009', NO_QUERY='NO_QUERY', _TheSpecialOne_='coZZ', @switchfoot http://twitpic.com/2y1zl - Awww, that's a bummer.  You shoulda got David Carr of Third Day to do it. ;D=\"@LOLTrish hey  long time no see! Yes.. Rains a bit ,only a bit  LOL , I'm fine thanks , how's you ?\"),\n",
       " Row(0='8', 1467810369='1467811795', Mon Apr 06 22:19:45 PDT 2009='Mon Apr 06 22:20:05 PDT 2009', NO_QUERY='NO_QUERY', _TheSpecialOne_='2Hood4Hollywood', @switchfoot http://twitpic.com/2y1zl - Awww, that's a bummer.  You shoulda got David Carr of Third Day to do it. ;D=\"@Tatiana_K nope they didn't have it \"),\n",
       " Row(0='9', 1467810369='1467812025', Mon Apr 06 22:19:45 PDT 2009='Mon Apr 06 22:20:09 PDT 2009', NO_QUERY='NO_QUERY', _TheSpecialOne_='mimismo', @switchfoot http://twitpic.com/2y1zl - Awww, that's a bummer.  You shoulda got David Carr of Third Day to do it. ;D='@twittera que me muera ? '),\n",
       " Row(0='10', 1467810369='1467812416', Mon Apr 06 22:19:45 PDT 2009='Mon Apr 06 22:20:16 PDT 2009', NO_QUERY='NO_QUERY', _TheSpecialOne_='erinx3leannexo', @switchfoot http://twitpic.com/2y1zl - Awww, that's a bummer.  You shoulda got David Carr of Third Day to do it. ;D=\"spring break in plain city... it's snowing \"),\n",
       " Row(0='11', 1467810369='1467812579', Mon Apr 06 22:19:45 PDT 2009='Mon Apr 06 22:20:17 PDT 2009', NO_QUERY='NO_QUERY', _TheSpecialOne_='pardonlauren', @switchfoot http://twitpic.com/2y1zl - Awww, that's a bummer.  You shoulda got David Carr of Third Day to do it. ;D='I just re-pierced my ears '),\n",
       " Row(0='12', 1467810369='1467812723', Mon Apr 06 22:19:45 PDT 2009='Mon Apr 06 22:20:19 PDT 2009', NO_QUERY='NO_QUERY', _TheSpecialOne_='TLeC', @switchfoot http://twitpic.com/2y1zl - Awww, that's a bummer.  You shoulda got David Carr of Third Day to do it. ;D=\"@caregiving I couldn't bear to watch it.  And I thought the UA loss was embarrassing . . . . .\"),\n",
       " Row(0='13', 1467810369='1467812771', Mon Apr 06 22:19:45 PDT 2009='Mon Apr 06 22:20:19 PDT 2009', NO_QUERY='NO_QUERY', _TheSpecialOne_='robrobbierobert', @switchfoot http://twitpic.com/2y1zl - Awww, that's a bummer.  You shoulda got David Carr of Third Day to do it. ;D='@octolinz16 It it counts, idk why I did either. you never talk to me anymore '),\n",
       " Row(0='14', 1467810369='1467812784', Mon Apr 06 22:19:45 PDT 2009='Mon Apr 06 22:20:20 PDT 2009', NO_QUERY='NO_QUERY', _TheSpecialOne_='bayofwolves', @switchfoot http://twitpic.com/2y1zl - Awww, that's a bummer.  You shoulda got David Carr of Third Day to do it. ;D=\"@smarrison i would've been the first, but i didn't have a gun.    not really though, zac snyder's just a doucheclown.\"),\n",
       " Row(0='15', 1467810369='1467812799', Mon Apr 06 22:19:45 PDT 2009='Mon Apr 06 22:20:20 PDT 2009', NO_QUERY='NO_QUERY', _TheSpecialOne_='HairByJess', @switchfoot http://twitpic.com/2y1zl - Awww, that's a bummer.  You shoulda got David Carr of Third Day to do it. ;D='@iamjazzyfizzle I wish I got to watch it with you!! I miss you and @iamlilnicki  how was the premiere?!'),\n",
       " Row(0='16', 1467810369='1467812964', Mon Apr 06 22:19:45 PDT 2009='Mon Apr 06 22:20:22 PDT 2009', NO_QUERY='NO_QUERY', _TheSpecialOne_='lovesongwriter', @switchfoot http://twitpic.com/2y1zl - Awww, that's a bummer.  You shoulda got David Carr of Third Day to do it. ;D=\"Hollis' death scene will hurt me severely to watch on film  wry is directors cut not out now?\"),\n",
       " Row(0='17', 1467810369='1467813137', Mon Apr 06 22:19:45 PDT 2009='Mon Apr 06 22:20:25 PDT 2009', NO_QUERY='NO_QUERY', _TheSpecialOne_='armotley', @switchfoot http://twitpic.com/2y1zl - Awww, that's a bummer.  You shoulda got David Carr of Third Day to do it. ;D='about to file taxes '),\n",
       " Row(0='18', 1467810369='1467813579', Mon Apr 06 22:19:45 PDT 2009='Mon Apr 06 22:20:31 PDT 2009', NO_QUERY='NO_QUERY', _TheSpecialOne_='starkissed', @switchfoot http://twitpic.com/2y1zl - Awww, that's a bummer.  You shoulda got David Carr of Third Day to do it. ;D='@LettyA ahh ive always wanted to see rent  love the soundtrack!!'),\n",
       " Row(0='19', 1467810369='1467813782', Mon Apr 06 22:19:45 PDT 2009='Mon Apr 06 22:20:34 PDT 2009', NO_QUERY='NO_QUERY', _TheSpecialOne_='gi_gi_bee', @switchfoot http://twitpic.com/2y1zl - Awww, that's a bummer.  You shoulda got David Carr of Third Day to do it. ;D='@FakerPattyPattz Oh dear. Were you drinking out of the forgotten table drinks? '),\n",
       " Row(0='20', 1467810369='1467813985', Mon Apr 06 22:19:45 PDT 2009='Mon Apr 06 22:20:37 PDT 2009', NO_QUERY='NO_QUERY', _TheSpecialOne_='quanvu', @switchfoot http://twitpic.com/2y1zl - Awww, that's a bummer.  You shoulda got David Carr of Third Day to do it. ;D=\"@alydesigns i was out most of the day so didn't get much done \")]"
      ]
     },
     "execution_count": 21,
     "metadata": {},
     "output_type": "execute_result"
    }
   ],
   "source": [
    "df.head(20)"
   ]
  },
  {
   "cell_type": "code",
   "execution_count": 22,
   "id": "f8012082",
   "metadata": {},
   "outputs": [
    {
     "name": "stdout",
     "output_type": "stream",
     "text": [
      "+---+----------+----------------------------+--------+---------------+-------------------------------------------------------------------------------------------------------------------+\n",
      "|  0|1467810369|Mon Apr 06 22:19:45 PDT 2009|NO_QUERY|_TheSpecialOne_|@switchfoot http://twitpic.com/2y1zl - Awww, that's a bummer.  You shoulda got David Carr of Third Day to do it. ;D|\n",
      "+---+----------+----------------------------+--------+---------------+-------------------------------------------------------------------------------------------------------------------+\n",
      "|  1|1467810672|        Mon Apr 06 22:19:...|NO_QUERY|  scotthamilton|                                                                                               is upset that he ...|\n",
      "|  2|1467810917|        Mon Apr 06 22:19:...|NO_QUERY|       mattycus|                                                                                               @Kenichan I dived...|\n",
      "|  3|1467811184|        Mon Apr 06 22:19:...|NO_QUERY|        ElleCTF|                                                                                               my whole body fee...|\n",
      "|  4|1467811193|        Mon Apr 06 22:19:...|NO_QUERY|         Karoli|                                                                                               @nationwideclass ...|\n",
      "|  5|1467811372|        Mon Apr 06 22:20:...|NO_QUERY|       joy_wolf|                                                                                               @Kwesidei not the...|\n",
      "|  6|1467811592|        Mon Apr 06 22:20:...|NO_QUERY|        mybirch|                                                                                                        Need a hug |\n",
      "|  7|1467811594|        Mon Apr 06 22:20:...|NO_QUERY|           coZZ|                                                                                               @LOLTrish hey  lo...|\n",
      "|  8|1467811795|        Mon Apr 06 22:20:...|NO_QUERY|2Hood4Hollywood|                                                                                               @Tatiana_K nope t...|\n",
      "|  9|1467812025|        Mon Apr 06 22:20:...|NO_QUERY|        mimismo|                                                                                               @twittera que me ...|\n",
      "| 10|1467812416|        Mon Apr 06 22:20:...|NO_QUERY| erinx3leannexo|                                                                                               spring break in p...|\n",
      "| 11|1467812579|        Mon Apr 06 22:20:...|NO_QUERY|   pardonlauren|                                                                                               I just re-pierced...|\n",
      "| 12|1467812723|        Mon Apr 06 22:20:...|NO_QUERY|           TLeC|                                                                                               @caregiving I cou...|\n",
      "| 13|1467812771|        Mon Apr 06 22:20:...|NO_QUERY|robrobbierobert|                                                                                               @octolinz16 It it...|\n",
      "| 14|1467812784|        Mon Apr 06 22:20:...|NO_QUERY|    bayofwolves|                                                                                               @smarrison i woul...|\n",
      "| 15|1467812799|        Mon Apr 06 22:20:...|NO_QUERY|     HairByJess|                                                                                               @iamjazzyfizzle I...|\n",
      "| 16|1467812964|        Mon Apr 06 22:20:...|NO_QUERY| lovesongwriter|                                                                                               Hollis' death sce...|\n",
      "| 17|1467813137|        Mon Apr 06 22:20:...|NO_QUERY|       armotley|                                                                                               about to file taxes |\n",
      "| 18|1467813579|        Mon Apr 06 22:20:...|NO_QUERY|     starkissed|                                                                                               @LettyA ahh ive a...|\n",
      "| 19|1467813782|        Mon Apr 06 22:20:...|NO_QUERY|      gi_gi_bee|                                                                                               @FakerPattyPattz ...|\n",
      "| 20|1467813985|        Mon Apr 06 22:20:...|NO_QUERY|         quanvu|                                                                                               @alydesigns i was...|\n",
      "+---+----------+----------------------------+--------+---------------+-------------------------------------------------------------------------------------------------------------------+\n",
      "only showing top 20 rows\n",
      "\n"
     ]
    }
   ],
   "source": [
    "# We start here the manipulation of the data\n",
    "# Register the DataFrame as temporary table\n",
    "df.createOrReplaceTempView(\"datos\")\n",
    "\n",
    "# Make an SQL query in the temporary table\n",
    "resultado = spark.sql(\"SELECT * FROM datos\")\n",
    "\n",
    "# Show the result\n",
    "resultado.show()"
   ]
  },
  {
   "cell_type": "code",
   "execution_count": 23,
   "id": "d863baa8",
   "metadata": {},
   "outputs": [
    {
     "name": "stdout",
     "output_type": "stream",
     "text": [
      "root\n",
      " |-- 0: string (nullable = true)\n",
      " |-- 1467810369: string (nullable = true)\n",
      " |-- Mon Apr 06 22:19:45 PDT 2009: string (nullable = true)\n",
      " |-- NO_QUERY: string (nullable = true)\n",
      " |-- _TheSpecialOne_: string (nullable = true)\n",
      " |-- @switchfoot http://twitpic.com/2y1zl - Awww, that's a bummer.  You shoulda got David Carr of Third Day to do it. ;D: string (nullable = true)\n",
      "\n"
     ]
    }
   ],
   "source": [
    "resultado.printSchema()"
   ]
  },
  {
   "cell_type": "code",
   "execution_count": 26,
   "id": "e645c2dc",
   "metadata": {},
   "outputs": [
    {
     "name": "stdout",
     "output_type": "stream",
     "text": [
      "+---+----------+--------------------+--------+---------------+-------------------------------------------------------------------------------------------------------------------+\n",
      "| ID| Timestamp|                Date|   Query|       Username|@switchfoot http://twitpic.com/2y1zl - Awww, that's a bummer.  You shoulda got David Carr of Third Day to do it. ;D|\n",
      "+---+----------+--------------------+--------+---------------+-------------------------------------------------------------------------------------------------------------------+\n",
      "|  1|1467810672|Mon Apr 06 22:19:...|NO_QUERY|  scotthamilton|                                                                                               is upset that he ...|\n",
      "|  2|1467810917|Mon Apr 06 22:19:...|NO_QUERY|       mattycus|                                                                                               @Kenichan I dived...|\n",
      "|  3|1467811184|Mon Apr 06 22:19:...|NO_QUERY|        ElleCTF|                                                                                               my whole body fee...|\n",
      "|  4|1467811193|Mon Apr 06 22:19:...|NO_QUERY|         Karoli|                                                                                               @nationwideclass ...|\n",
      "|  5|1467811372|Mon Apr 06 22:20:...|NO_QUERY|       joy_wolf|                                                                                               @Kwesidei not the...|\n",
      "|  6|1467811592|Mon Apr 06 22:20:...|NO_QUERY|        mybirch|                                                                                                        Need a hug |\n",
      "|  7|1467811594|Mon Apr 06 22:20:...|NO_QUERY|           coZZ|                                                                                               @LOLTrish hey  lo...|\n",
      "|  8|1467811795|Mon Apr 06 22:20:...|NO_QUERY|2Hood4Hollywood|                                                                                               @Tatiana_K nope t...|\n",
      "|  9|1467812025|Mon Apr 06 22:20:...|NO_QUERY|        mimismo|                                                                                               @twittera que me ...|\n",
      "| 10|1467812416|Mon Apr 06 22:20:...|NO_QUERY| erinx3leannexo|                                                                                               spring break in p...|\n",
      "| 11|1467812579|Mon Apr 06 22:20:...|NO_QUERY|   pardonlauren|                                                                                               I just re-pierced...|\n",
      "| 12|1467812723|Mon Apr 06 22:20:...|NO_QUERY|           TLeC|                                                                                               @caregiving I cou...|\n",
      "| 13|1467812771|Mon Apr 06 22:20:...|NO_QUERY|robrobbierobert|                                                                                               @octolinz16 It it...|\n",
      "| 14|1467812784|Mon Apr 06 22:20:...|NO_QUERY|    bayofwolves|                                                                                               @smarrison i woul...|\n",
      "| 15|1467812799|Mon Apr 06 22:20:...|NO_QUERY|     HairByJess|                                                                                               @iamjazzyfizzle I...|\n",
      "| 16|1467812964|Mon Apr 06 22:20:...|NO_QUERY| lovesongwriter|                                                                                               Hollis' death sce...|\n",
      "| 17|1467813137|Mon Apr 06 22:20:...|NO_QUERY|       armotley|                                                                                               about to file taxes |\n",
      "| 18|1467813579|Mon Apr 06 22:20:...|NO_QUERY|     starkissed|                                                                                               @LettyA ahh ive a...|\n",
      "| 19|1467813782|Mon Apr 06 22:20:...|NO_QUERY|      gi_gi_bee|                                                                                               @FakerPattyPattz ...|\n",
      "| 20|1467813985|Mon Apr 06 22:20:...|NO_QUERY|         quanvu|                                                                                               @alydesigns i was...|\n",
      "+---+----------+--------------------+--------+---------------+-------------------------------------------------------------------------------------------------------------------+\n",
      "only showing top 20 rows\n",
      "\n"
     ]
    }
   ],
   "source": [
    "from pyspark.sql.functions import col\n",
    "# Rename columns using withColumnRenamed\n",
    "\n",
    "\n",
    "df = df.withColumnRenamed(\"0\", \"ID\") \\\n",
    "    .withColumnRenamed(\"1467810369\", \"Timestamp\") \\\n",
    "    .withColumnRenamed(\"Mon Apr 06 22:19:45 PDT 2009\", \"Date\") \\\n",
    "    .withColumnRenamed(\"NO_QUERY\", \"Query\") \\\n",
    "    .withColumnRenamed(\"_TheSpecialOne_\", \"Username\") \\\n",
    "    .withColumnRenamed(\"@switchfoot http://twitpic.com/2y1zl - Awww, that's a bummer. You shoulda got David Carr of Third Day to do it. ;D\", \"Tweet\")\n",
    "\n",
    "# Display the resulting DataFrame\n",
    "\n",
    "\n",
    "df.show()\n"
   ]
  },
  {
   "cell_type": "code",
   "execution_count": 27,
   "id": "ada139a2",
   "metadata": {},
   "outputs": [
    {
     "name": "stdout",
     "output_type": "stream",
     "text": [
      "root\n",
      " |-- ID: string (nullable = true)\n",
      " |-- Timestamp: string (nullable = true)\n",
      " |-- Date: string (nullable = true)\n",
      " |-- Query: string (nullable = true)\n",
      " |-- Username: string (nullable = true)\n",
      " |-- @switchfoot http://twitpic.com/2y1zl - Awww, that's a bummer.  You shoulda got David Carr of Third Day to do it. ;D: string (nullable = true)\n",
      "\n"
     ]
    }
   ],
   "source": [
    "df.printSchema()"
   ]
  },
  {
   "cell_type": "code",
   "execution_count": 32,
   "id": "5bbf38de",
   "metadata": {},
   "outputs": [
    {
     "name": "stderr",
     "output_type": "stream",
     "text": [
      "\r",
      "[Stage 25:>                                                         (0 + 2) / 2]\r"
     ]
    },
    {
     "name": "stdout",
     "output_type": "stream",
     "text": [
      "+---------------+-----------+\n",
      "|       Username|tweet_count|\n",
      "+---------------+-----------+\n",
      "|       lost_dog|        549|\n",
      "|        webwoke|        345|\n",
      "|       tweetpet|        310|\n",
      "|SallytheShizzle|        281|\n",
      "|    VioletsCRUK|        279|\n",
      "|    mcraddictal|        276|\n",
      "|       tsarnick|        248|\n",
      "|    what_bugs_u|        246|\n",
      "|    Karen230683|        238|\n",
      "|      DarkPiano|        236|\n",
      "|   SongoftheOss|        227|\n",
      "|      Jayme1988|        225|\n",
      "|         keza34|        219|\n",
      "| ramdomthoughts|        216|\n",
      "|      shanajaca|        213|\n",
      "|         wowlew|        212|\n",
      "|   TraceyHewins|        211|\n",
      "|     nuttychris|        211|\n",
      "|   thisgoeshere|        207|\n",
      "|     Spidersamm|        205|\n",
      "+---------------+-----------+\n",
      "only showing top 20 rows\n",
      "\n"
     ]
    },
    {
     "name": "stderr",
     "output_type": "stream",
     "text": [
      "\r",
      "                                                                                \r"
     ]
    }
   ],
   "source": [
    "# Create a temporary view of the DataFrame in order to execute SQL queries\n",
    "\n",
    "\n",
    "df.createOrReplaceTempView(\"tweets\")\n",
    "\n",
    "# SQL query to count the number of tweets per user and sort them in descending order.\n",
    "\n",
    "\n",
    "tweet_count_query = \"\"\"\n",
    "    SELECT Username, COUNT(*) AS tweet_count\n",
    "    FROM tweets\n",
    "    GROUP BY Username\n",
    "    ORDER BY tweet_count DESC\n",
    "\"\"\"\n",
    "\n",
    "# Execute the query\n",
    "\n",
    "\n",
    "tweet_counts = spark.sql(tweet_count_query)\n",
    "\n",
    "# Show users who have left the most tweets\n",
    "\n",
    "\n",
    "tweet_counts.show()"
   ]
  },
  {
   "cell_type": "code",
   "execution_count": 34,
   "id": "73a2d577",
   "metadata": {},
   "outputs": [
    {
     "name": "stdout",
     "output_type": "stream",
     "text": [
      "+-----+----------+--------------------+--------+--------+-------------------------------------------------------------------------------------------------------------------+\n",
      "|   ID| Timestamp|                Date|   Query|Username|@switchfoot http://twitpic.com/2y1zl - Awww, that's a bummer.  You shoulda got David Carr of Third Day to do it. ;D|\n",
      "+-----+----------+--------------------+--------+--------+-------------------------------------------------------------------------------------------------------------------+\n",
      "|43935|1676704158|Fri May 01 22:54:...|NO_QUERY|lost_dog|                                                                                               @NyleW I am lost....|\n",
      "|45574|1677189389|Sat May 02 00:51:...|NO_QUERY|lost_dog|                                                                                               @SallyD I am lost...|\n",
      "|46919|1677519173|Sat May 02 02:30:...|NO_QUERY|lost_dog|                                                                                               @zuppaholic I am ...|\n",
      "|47949|1677752995|Sat May 02 03:47:...|NO_QUERY|lost_dog|                                                                                               @LOSTPETUSA I am ...|\n",
      "|50572|1678544903|Sat May 02 07:02:...|NO_QUERY|lost_dog|                                                                                               @JeanLevertHood I...|\n",
      "|50854|1678661848|Sat May 02 07:22:...|NO_QUERY|lost_dog|                                                                                               @irenerencsi I am...|\n",
      "|55096|1684955706|Sat May 02 22:34:...|NO_QUERY|lost_dog|                                                                                               @adevenish I am l...|\n",
      "|55656|1685161254|Sat May 02 23:16:...|NO_QUERY|lost_dog|                                                                                               @LAmale I am lost...|\n",
      "|60808|1686517168|Sun May 03 05:45:...|NO_QUERY|lost_dog|                                                                                               @bthenextstep I a...|\n",
      "|64297|1688009482|Sun May 03 10:07:...|NO_QUERY|lost_dog|                                                                                               @DonaldDonnyDon I...|\n",
      "|66592|1691889290|Sun May 03 18:49:...|NO_QUERY|lost_dog|                                                                                               @christinebrewer ...|\n",
      "|66854|1692016305|Sun May 03 19:05:...|NO_QUERY|lost_dog|                                                                                               @Cara I am lost. ...|\n",
      "|67146|1692175965|Sun May 03 19:26:...|NO_QUERY|lost_dog|                                                                                               @becca_greenberg ...|\n",
      "|67309|1692256200|Sun May 03 19:36:...|NO_QUERY|lost_dog|                                                                                               @unaverage_joe I ...|\n",
      "|67837|1692553985|Sun May 03 20:14:...|NO_QUERY|lost_dog|                                                                                               @Papadoc1 I am lo...|\n",
      "|69350|1693257077|Sun May 03 22:00:...|NO_QUERY|lost_dog|                                                                                               @LadyHilary I am ...|\n",
      "|71123|1693868535|Mon May 04 00:05:...|NO_QUERY|lost_dog|                                                                                               @KayParx I am los...|\n",
      "|71405|1693951756|Mon May 04 00:26:...|NO_QUERY|lost_dog|                                                                                               @DJ_RIN I am lost...|\n",
      "|71924|1694091143|Mon May 04 01:02:...|NO_QUERY|lost_dog|                                                                                               @grimlyinventive ...|\n",
      "|74426|1694813257|Mon May 04 04:13:...|NO_QUERY|lost_dog|                                                                                               @lolflux I am los...|\n",
      "+-----+----------+--------------------+--------+--------+-------------------------------------------------------------------------------------------------------------------+\n",
      "only showing top 20 rows\n",
      "\n"
     ]
    }
   ],
   "source": [
    "# SQL query to filter tweets by user\n",
    "\n",
    "\n",
    "lost_dog = spark.sql(\"SELECT * FROM tweets WHERE Username = 'lost_dog'\")\n",
    "\n",
    "# SQL query to filter tweets by user\n",
    "\n",
    "\n",
    "lost_dog.show()\n"
   ]
  },
  {
   "cell_type": "code",
   "execution_count": 39,
   "id": "58d39a39",
   "metadata": {},
   "outputs": [
    {
     "name": "stderr",
     "output_type": "stream",
     "text": [
      "\r",
      "[Stage 37:>                                                         (0 + 1) / 1]\r"
     ]
    },
    {
     "name": "stdout",
     "output_type": "stream",
     "text": [
      "+------+----------+--------------------+--------+--------+-------------------------------------------------------------------------------------------------------------------+\n",
      "|    ID| Timestamp|                Date|   Query|Username|@switchfoot http://twitpic.com/2y1zl - Awww, that's a bummer.  You shoulda got David Carr of Third Day to do it. ;D|\n",
      "+------+----------+--------------------+--------+--------+-------------------------------------------------------------------------------------------------------------------+\n",
      "|363303|2047801265|Fri Jun 05 14:12:...|NO_QUERY| webwoke|                                                                                               auchh, drop by 1 ...|\n",
      "|366529|2048883634|Fri Jun 05 15:56:...|NO_QUERY| webwoke|                                                                                               auchh, drop by 1 ...|\n",
      "|366530|2048883882|Fri Jun 05 15:56:...|NO_QUERY| webwoke|                                                                                               auchh, drop by 1 ...|\n",
      "|366597|2048903368|Fri Jun 05 15:58:...|NO_QUERY| webwoke|                                                                                               auchh, drop by 1 ...|\n",
      "|366599|2048903446|Fri Jun 05 15:58:...|NO_QUERY| webwoke|                                                                                               auchh, drop by 1 ...|\n",
      "|366601|2048903517|Fri Jun 05 15:58:...|NO_QUERY| webwoke|                                                                                               auchh, drop by 1 ...|\n",
      "|366677|2048923620|Fri Jun 05 16:00:...|NO_QUERY| webwoke|                                                                                               auchh, drop by 1 ...|\n",
      "|366679|2048923754|Fri Jun 05 16:00:...|NO_QUERY| webwoke|                                                                                               auchh, drop by 1 ...|\n",
      "|366680|2048923863|Fri Jun 05 16:00:...|NO_QUERY| webwoke|                                                                                               auchh, drop by 1 ...|\n",
      "|366744|2048944915|Fri Jun 05 16:02:...|NO_QUERY| webwoke|                                                                                               auchh, drop by 1 ...|\n",
      "|366746|2048945164|Fri Jun 05 16:02:...|NO_QUERY| webwoke|                                                                                               auchh, drop by 1 ...|\n",
      "|366818|2048965055|Fri Jun 05 16:04:...|NO_QUERY| webwoke|                                                                                               auchh, drop by 1 ...|\n",
      "|366819|2048965132|Fri Jun 05 16:04:...|NO_QUERY| webwoke|                                                                                               auchh, drop by 1 ...|\n",
      "|366823|2048965241|Fri Jun 05 16:04:...|NO_QUERY| webwoke|                                                                                               auchh, drop by 1 ...|\n",
      "|379604|2052379276|Sat Jun 06 00:32:...|NO_QUERY| webwoke|                                                                                               damn... drop by 1...|\n",
      "|379605|2052379326|Sat Jun 06 00:32:...|NO_QUERY| webwoke|                                                                                               damn... drop by 1...|\n",
      "|379649|2052389393|Sat Jun 06 00:34:...|NO_QUERY| webwoke|                                                                                               aughh... drop by ...|\n",
      "|379651|2052389460|Sat Jun 06 00:34:...|NO_QUERY| webwoke|                                                                                               damn... drop by 1...|\n",
      "|379652|2052389488|Sat Jun 06 00:34:...|NO_QUERY| webwoke|                                                                                               F**K! drop by 1  ...|\n",
      "|379705|2052399583|Sat Jun 06 00:36:...|NO_QUERY| webwoke|                                                                                               ohh s**t... drop ...|\n",
      "+------+----------+--------------------+--------+--------+-------------------------------------------------------------------------------------------------------------------+\n",
      "only showing top 20 rows\n",
      "\n"
     ]
    },
    {
     "name": "stderr",
     "output_type": "stream",
     "text": [
      "\r",
      "                                                                                \r"
     ]
    }
   ],
   "source": [
    "# SQL query to filter tweets by user\n",
    "\n",
    "\n",
    "webwoke = spark.sql(\"SELECT * FROM tweets WHERE Username = 'webwoke'\")\n",
    "\n",
    "# Show the results\n",
    "\n",
    "\n",
    "webwoke.show()\n"
   ]
  },
  {
   "cell_type": "code",
   "execution_count": 52,
   "id": "8e7a9700",
   "metadata": {},
   "outputs": [
    {
     "name": "stderr",
     "output_type": "stream",
     "text": [
      "                                                                                \r"
     ]
    }
   ],
   "source": [
    "lost_dog.coalesce(1).write.csv(\"file:///home/hduser/Desktop/TweetsLostDog.csv\", header=True, mode=\"overwrite\")\n"
   ]
  },
  {
   "cell_type": "code",
   "execution_count": 49,
   "id": "92cb7ba1",
   "metadata": {},
   "outputs": [
    {
     "name": "stderr",
     "output_type": "stream",
     "text": [
      "                                                                                \r"
     ]
    }
   ],
   "source": [
    "webwoke.coalesce(1).write.csv(\"file:///home/hduser/Desktop/TweetsWebWoke.csv\", header=True, mode=\"overwrite\")\n"
   ]
  },
  {
   "cell_type": "code",
   "execution_count": 43,
   "id": "7f0464e1",
   "metadata": {},
   "outputs": [
    {
     "name": "stdout",
     "output_type": "stream",
     "text": [
      "+---+----------+--------------------+--------+---------------+-------------------------------------------------------------------------------------------------------------------+\n",
      "| ID| Timestamp|                Date|   Query|       Username|@switchfoot http://twitpic.com/2y1zl - Awww, that's a bummer.  You shoulda got David Carr of Third Day to do it. ;D|\n",
      "+---+----------+--------------------+--------+---------------+-------------------------------------------------------------------------------------------------------------------+\n",
      "|  1|1467810672|Mon Apr 06 22:19:...|NO_QUERY|  scotthamilton|                                                                                               is upset that he ...|\n",
      "|  2|1467810917|Mon Apr 06 22:19:...|NO_QUERY|       mattycus|                                                                                               @Kenichan I dived...|\n",
      "|  3|1467811184|Mon Apr 06 22:19:...|NO_QUERY|        ElleCTF|                                                                                               my whole body fee...|\n",
      "|  4|1467811193|Mon Apr 06 22:19:...|NO_QUERY|         Karoli|                                                                                               @nationwideclass ...|\n",
      "|  5|1467811372|Mon Apr 06 22:20:...|NO_QUERY|       joy_wolf|                                                                                               @Kwesidei not the...|\n",
      "|  6|1467811592|Mon Apr 06 22:20:...|NO_QUERY|        mybirch|                                                                                                        Need a hug |\n",
      "|  7|1467811594|Mon Apr 06 22:20:...|NO_QUERY|           coZZ|                                                                                               @LOLTrish hey  lo...|\n",
      "|  8|1467811795|Mon Apr 06 22:20:...|NO_QUERY|2Hood4Hollywood|                                                                                               @Tatiana_K nope t...|\n",
      "|  9|1467812025|Mon Apr 06 22:20:...|NO_QUERY|        mimismo|                                                                                               @twittera que me ...|\n",
      "| 10|1467812416|Mon Apr 06 22:20:...|NO_QUERY| erinx3leannexo|                                                                                               spring break in p...|\n",
      "| 11|1467812579|Mon Apr 06 22:20:...|NO_QUERY|   pardonlauren|                                                                                               I just re-pierced...|\n",
      "| 12|1467812723|Mon Apr 06 22:20:...|NO_QUERY|           TLeC|                                                                                               @caregiving I cou...|\n",
      "| 13|1467812771|Mon Apr 06 22:20:...|NO_QUERY|robrobbierobert|                                                                                               @octolinz16 It it...|\n",
      "| 14|1467812784|Mon Apr 06 22:20:...|NO_QUERY|    bayofwolves|                                                                                               @smarrison i woul...|\n",
      "| 15|1467812799|Mon Apr 06 22:20:...|NO_QUERY|     HairByJess|                                                                                               @iamjazzyfizzle I...|\n",
      "| 16|1467812964|Mon Apr 06 22:20:...|NO_QUERY| lovesongwriter|                                                                                               Hollis' death sce...|\n",
      "| 17|1467813137|Mon Apr 06 22:20:...|NO_QUERY|       armotley|                                                                                               about to file taxes |\n",
      "| 18|1467813579|Mon Apr 06 22:20:...|NO_QUERY|     starkissed|                                                                                               @LettyA ahh ive a...|\n",
      "| 19|1467813782|Mon Apr 06 22:20:...|NO_QUERY|      gi_gi_bee|                                                                                               @FakerPattyPattz ...|\n",
      "| 20|1467813985|Mon Apr 06 22:20:...|NO_QUERY|         quanvu|                                                                                               @alydesigns i was...|\n",
      "+---+----------+--------------------+--------+---------------+-------------------------------------------------------------------------------------------------------------------+\n",
      "only showing top 20 rows\n",
      "\n"
     ]
    }
   ],
   "source": [
    "filtered_by_monday = spark.sql(\"\"\"\n",
    "    SELECT *\n",
    "    FROM tweets\n",
    "    WHERE Date LIKE '%Mon%'\n",
    "\"\"\")\n",
    "\n",
    "# Show the results\n",
    "\n",
    "\n",
    "filtered_by_monday.show()"
   ]
  },
  {
   "cell_type": "code",
   "execution_count": 44,
   "id": "f732b40b",
   "metadata": {},
   "outputs": [
    {
     "name": "stdout",
     "output_type": "stream",
     "text": [
      "+---+----------+--------------------+--------+---------------+-------------------------------------------------------------------------------------------------------------------+\n",
      "| ID| Timestamp|                Date|   Query|       Username|@switchfoot http://twitpic.com/2y1zl - Awww, that's a bummer.  You shoulda got David Carr of Third Day to do it. ;D|\n",
      "+---+----------+--------------------+--------+---------------+-------------------------------------------------------------------------------------------------------------------+\n",
      "|  1|1467810672|Mon Apr 06 22:19:...|NO_QUERY|  scotthamilton|                                                                                               is upset that he ...|\n",
      "|  2|1467810917|Mon Apr 06 22:19:...|NO_QUERY|       mattycus|                                                                                               @Kenichan I dived...|\n",
      "|  3|1467811184|Mon Apr 06 22:19:...|NO_QUERY|        ElleCTF|                                                                                               my whole body fee...|\n",
      "|  4|1467811193|Mon Apr 06 22:19:...|NO_QUERY|         Karoli|                                                                                               @nationwideclass ...|\n",
      "|  5|1467811372|Mon Apr 06 22:20:...|NO_QUERY|       joy_wolf|                                                                                               @Kwesidei not the...|\n",
      "|  6|1467811592|Mon Apr 06 22:20:...|NO_QUERY|        mybirch|                                                                                                        Need a hug |\n",
      "|  7|1467811594|Mon Apr 06 22:20:...|NO_QUERY|           coZZ|                                                                                               @LOLTrish hey  lo...|\n",
      "|  8|1467811795|Mon Apr 06 22:20:...|NO_QUERY|2Hood4Hollywood|                                                                                               @Tatiana_K nope t...|\n",
      "|  9|1467812025|Mon Apr 06 22:20:...|NO_QUERY|        mimismo|                                                                                               @twittera que me ...|\n",
      "| 10|1467812416|Mon Apr 06 22:20:...|NO_QUERY| erinx3leannexo|                                                                                               spring break in p...|\n",
      "| 11|1467812579|Mon Apr 06 22:20:...|NO_QUERY|   pardonlauren|                                                                                               I just re-pierced...|\n",
      "| 12|1467812723|Mon Apr 06 22:20:...|NO_QUERY|           TLeC|                                                                                               @caregiving I cou...|\n",
      "| 13|1467812771|Mon Apr 06 22:20:...|NO_QUERY|robrobbierobert|                                                                                               @octolinz16 It it...|\n",
      "| 14|1467812784|Mon Apr 06 22:20:...|NO_QUERY|    bayofwolves|                                                                                               @smarrison i woul...|\n",
      "| 15|1467812799|Mon Apr 06 22:20:...|NO_QUERY|     HairByJess|                                                                                               @iamjazzyfizzle I...|\n",
      "| 16|1467812964|Mon Apr 06 22:20:...|NO_QUERY| lovesongwriter|                                                                                               Hollis' death sce...|\n",
      "| 17|1467813137|Mon Apr 06 22:20:...|NO_QUERY|       armotley|                                                                                               about to file taxes |\n",
      "| 18|1467813579|Mon Apr 06 22:20:...|NO_QUERY|     starkissed|                                                                                               @LettyA ahh ive a...|\n",
      "| 19|1467813782|Mon Apr 06 22:20:...|NO_QUERY|      gi_gi_bee|                                                                                               @FakerPattyPattz ...|\n",
      "| 20|1467813985|Mon Apr 06 22:20:...|NO_QUERY|         quanvu|                                                                                               @alydesigns i was...|\n",
      "+---+----------+--------------------+--------+---------------+-------------------------------------------------------------------------------------------------------------------+\n",
      "only showing top 20 rows\n",
      "\n"
     ]
    }
   ],
   "source": [
    "# SQL query to filter tweets by the word ‘Apr’ in the column ‘Date’.\n",
    "\n",
    "\n",
    "filtered_by_april = spark.sql(\"\"\"\n",
    "    SELECT *\n",
    "    FROM tweets\n",
    "    WHERE Date LIKE '%Apr%'\n",
    "\"\"\")\n",
    "\n",
    "# Show the results\n",
    "\n",
    "\n",
    "filtered_by_april.show()"
   ]
  },
  {
   "cell_type": "code",
   "execution_count": 47,
   "id": "4e557068",
   "metadata": {},
   "outputs": [
    {
     "name": "stderr",
     "output_type": "stream",
     "text": [
      "                                                                                \r"
     ]
    }
   ],
   "source": [
    "filtered_by_monday.coalesce(1).write.csv(\"file:///home/hduser/Desktop/MondayTweets.csv\", header=True, mode=\"overwrite\")"
   ]
  },
  {
   "cell_type": "code",
   "execution_count": 48,
   "id": "cc70e183",
   "metadata": {},
   "outputs": [
    {
     "name": "stderr",
     "output_type": "stream",
     "text": [
      "                                                                                \r"
     ]
    }
   ],
   "source": [
    "filtered_by_april.coalesce(1).write.csv(\"file:///home/hduser/Desktop/AprilTweets.csv\", header=True, mode=\"overwrite\")"
   ]
  },
  {
   "cell_type": "code",
   "execution_count": 58,
   "id": "a6ca9a64",
   "metadata": {},
   "outputs": [
    {
     "name": "stderr",
     "output_type": "stream",
     "text": [
      "\r",
      "[Stage 56:>                                                         (0 + 1) / 1]\r"
     ]
    },
    {
     "name": "stdout",
     "output_type": "stream",
     "text": [
      "+------+----------+--------------------+--------+---------------+-------------------------------------------------------------------------------------------------------------------+\n",
      "|    ID| Timestamp|                Date|   Query|       Username|@switchfoot http://twitpic.com/2y1zl - Awww, that's a bummer.  You shoulda got David Carr of Third Day to do it. ;D|\n",
      "+------+----------+--------------------+--------+---------------+-------------------------------------------------------------------------------------------------------------------+\n",
      "|190750|1969424571|Sat May 30 00:00:...|NO_QUERY|   braisinhussy|                                                                                               Job GET! I start ...|\n",
      "|190751|1969424578|Sat May 30 00:00:...|NO_QUERY|    AubweeMawee|                                                                                               Can we take a min...|\n",
      "|190752|1969424865|Sat May 30 00:00:...|NO_QUERY|      jonkrause|                                                                                               Tony isn't coming...|\n",
      "|190753|1969425340|Sat May 30 00:00:...|NO_QUERY|          JeJa6|                                                                                               Sooooo night is o...|\n",
      "|190754|1969425641|Sat May 30 00:00:...|NO_QUERY|         SnyJan|                                                                                               I missed a postal...|\n",
      "|190755|1969426020|Sat May 30 00:00:...|NO_QUERY|       jmeeeeee|                                                                                               i don't think i h...|\n",
      "|190756|1969426081|Sat May 30 00:00:...|NO_QUERY|   Bee_Inspired|                                                                                               Going 2 watch the...|\n",
      "|190757|1969426808|Sat May 30 00:00:...|NO_QUERY|     mariab2489|                                                                                               omg i just finish...|\n",
      "|190758|1969426908|Sat May 30 00:00:...|NO_QUERY|         Dylzaw|                                                                                               i have to get dre...|\n",
      "|190759|1969426936|Sat May 30 00:00:...|NO_QUERY|       adripink|                                                                                               Aww &quot;Te Quie...|\n",
      "|190760|1969427760|Sat May 30 00:00:...|NO_QUERY|  crufixtionboo|                                                                                               @Kymdeesther do s...|\n",
      "|190761|1969427969|Sat May 30 00:00:...|NO_QUERY| TobiasFunkeMcB|                                                                                               may have tinked i...|\n",
      "|190762|1969428167|Sat May 30 00:00:...|NO_QUERY|    cashew_nutt|                                                                                               really really rea...|\n",
      "|190763|1969428171|Sat May 30 00:00:...|NO_QUERY|    michellecpa|                                                                                                   @HOTTVampChick  |\n",
      "|190764|1969428217|Sat May 30 00:00:...|NO_QUERY|michebuckingham|                                                                                               Not looking forwa...|\n",
      "|190765|1969428600|Sat May 30 00:00:...|NO_QUERY|        0alycia|                                                                                               Twitter is so mea...|\n",
      "|190766|1969428688|Sat May 30 00:00:...|NO_QUERY|      mrwallace|                                                                                               Daemon kids downs...|\n",
      "|190767|1969429131|Sat May 30 00:00:...|NO_QUERY|       decode_2|                                                                                               freeezing i disli...|\n",
      "|190768|1969429424|Sat May 30 00:00:...|NO_QUERY|      AbigailNg|                                                                                               Where is my ed ha...|\n",
      "|190769|1969429673|Sat May 30 00:00:...|NO_QUERY|       danniioc|                                                                                                      Doing dishes |\n",
      "+------+----------+--------------------+--------+---------------+-------------------------------------------------------------------------------------------------------------------+\n",
      "only showing top 20 rows\n",
      "\n"
     ]
    },
    {
     "name": "stderr",
     "output_type": "stream",
     "text": [
      "\r",
      "                                                                                \r"
     ]
    }
   ],
   "source": [
    "# SQL query to filter tweets by the words ‘May 30’ in the column ‘Date’.\n",
    "\n",
    "\n",
    "filtered_by_day = spark.sql(\"\"\"\n",
    "    SELECT *\n",
    "    FROM tweets\n",
    "    WHERE Date LIKE '%May 30%'\n",
    "\"\"\")\n",
    "\n",
    "# Show the results\n",
    "\n",
    "\n",
    "filtered_by_day.show()"
   ]
  },
  {
   "cell_type": "code",
   "execution_count": 59,
   "id": "f955bf9e",
   "metadata": {},
   "outputs": [
    {
     "name": "stdout",
     "output_type": "stream",
     "text": [
      "+------+----------+--------------------+--------+--------------+-------------------------------------------------------------------------------------------------------------------+\n",
      "|    ID| Timestamp|                Date|   Query|      Username|@switchfoot http://twitpic.com/2y1zl - Awww, that's a bummer.  You shoulda got David Carr of Third Day to do it. ;D|\n",
      "+------+----------+--------------------+--------+--------------+-------------------------------------------------------------------------------------------------------------------+\n",
      "|226543|1977871062|Sat May 30 21:54:...|NO_QUERY|    BrandonJay|                                                                                               I missed SNL.  oh...|\n",
      "|226544|1977871142|Sat May 30 21:54:...|NO_QUERY|  IxchelSchool|                                                                                               @KW2P But the cru...|\n",
      "|226545|1977871337|Sat May 30 21:54:...|NO_QUERY|   relientkfan|                                                                                               @relientK yea the...|\n",
      "|226546|1977871480|Sat May 30 21:54:...|NO_QUERY|      thexC00l|                                                                                               Isaac locked me out |\n",
      "|226547|1977871590|Sat May 30 21:54:...|NO_QUERY|   The_Rooster|                                                                                               Have to get ready...|\n",
      "|226548|1977871857|Sat May 30 21:54:...|NO_QUERY|  spklsintxusa|                                                                                               So here is what h...|\n",
      "|226549|1977872154|Sat May 30 21:54:...|NO_QUERY|       tobi319|                                                                                               @WorksInProgress ...|\n",
      "|226550|1977872641|Sat May 30 21:54:...|NO_QUERY|        tahn66|                                                                                               Nothing exciting ...|\n",
      "|226551|1977873223|Sat May 30 21:54:...|NO_QUERY|  woahitssarah|                                                                                               @haveheartcate no...|\n",
      "|226552|1977873377|Sat May 30 21:54:...|NO_QUERY|      hannahp7|                                                                                               has given up on h...|\n",
      "|226553|1977873769|Sat May 30 21:54:...|NO_QUERY|      meganpie|                                                                                               ah!!! cant upload...|\n",
      "|226554|1977873868|Sat May 30 21:54:...|NO_QUERY|       leia155|                                                                                               This weather is m...|\n",
      "|226555|1977874255|Sat May 30 21:54:...|NO_QUERY| emileeabigail|                                                                                               Just got home fro...|\n",
      "|226556|1977874536|Sat May 30 21:54:...|NO_QUERY| katjrobertson|                                                                                               - Even the simple...|\n",
      "|226557|1977874577|Sat May 30 21:54:...|NO_QUERY|AnonymousLoner|                                                                                               My mom hasn't bee...|\n",
      "|226558|1977874901|Sat May 30 21:54:...|NO_QUERY|  tonileskovec|                                                                                               just got twitter,...|\n",
      "|226559|1977874975|Sat May 30 21:54:...|NO_QUERY|   kelastrophy|                                                                                               facebook is hatin...|\n",
      "|226560|1977875034|Sat May 30 21:54:...|NO_QUERY|    spiralsxxx|                                                                                               getting pissed ho...|\n",
      "|226561|1977875105|Sat May 30 21:54:...|NO_QUERY|   arjohnson77|                                                                                               Very disappointed...|\n",
      "|226562|1977875530|Sat May 30 21:54:...|NO_QUERY|     savvybaby|                                                                                               all my folks is c...|\n",
      "+------+----------+--------------------+--------+--------------+-------------------------------------------------------------------------------------------------------------------+\n",
      "only showing top 20 rows\n",
      "\n"
     ]
    },
    {
     "name": "stderr",
     "output_type": "stream",
     "text": [
      "\r",
      "[Stage 57:>                                                         (0 + 1) / 1]\r",
      "\r",
      "                                                                                \r"
     ]
    }
   ],
   "source": [
    "filtered_by_hour = spark.sql(\"\"\"\n",
    "    SELECT *\n",
    "    FROM tweets\n",
    "    WHERE Date LIKE '%May 30 21:54%'\n",
    "\"\"\")\n",
    "\n",
    "# Show the results\n",
    "\n",
    "\n",
    "filtered_by_hour.show()"
   ]
  },
  {
   "cell_type": "code",
   "execution_count": 60,
   "id": "6221fb01",
   "metadata": {},
   "outputs": [
    {
     "name": "stderr",
     "output_type": "stream",
     "text": [
      "                                                                                \r"
     ]
    }
   ],
   "source": [
    "filtered_by_day.coalesce(1).write.csv(\"file:///home/hduser/Desktop/DayFinalBGT.csv\", header=True, mode=\"overwrite\")"
   ]
  },
  {
   "cell_type": "code",
   "execution_count": 61,
   "id": "6ec5d381",
   "metadata": {},
   "outputs": [
    {
     "name": "stderr",
     "output_type": "stream",
     "text": [
      "                                                                                \r"
     ]
    }
   ],
   "source": [
    "filtered_by_hour.coalesce(1).write.csv(\"file:///home/hduser/Desktop/HourChampionlBGT.csv\", header=True, mode=\"overwrite\")"
   ]
  },
  {
   "cell_type": "code",
   "execution_count": null,
   "id": "c4700705",
   "metadata": {},
   "outputs": [],
   "source": []
  }
 ],
 "metadata": {
  "kernelspec": {
   "display_name": "Python 3 (ipykernel)",
   "language": "python",
   "name": "python3"
  },
  "language_info": {
   "codemirror_mode": {
    "name": "ipython",
    "version": 3
   },
   "file_extension": ".py",
   "mimetype": "text/x-python",
   "name": "python",
   "nbconvert_exporter": "python",
   "pygments_lexer": "ipython3",
   "version": "3.11.5"
  }
 },
 "nbformat": 4,
 "nbformat_minor": 5
}
